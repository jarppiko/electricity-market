{
 "cells": [
  {
   "cell_type": "code",
   "execution_count": 20,
   "id": "3a19f48e-c417-46be-855d-711467aa8a39",
   "metadata": {
    "tags": []
   },
   "outputs": [],
   "source": [
    "from typing import Any\n",
    "import matplotlib.pyplot as plt\n",
    "import ipywidgets as widgets\n",
    "import numpy as np\n",
    "from ipywidgets import interact\n",
    "from zoneinfo import ZoneInfo\n",
    "from datetime import timezone, datetime\n",
    "import aiohttp\n",
    "from config import FG_api_key\n",
    "\n"
   ]
  },
  {
   "cell_type": "code",
   "execution_count": 21,
   "id": "181aca1c",
   "metadata": {},
   "outputs": [
    {
     "ename": "SyntaxError",
     "evalue": "incomplete input (3003396494.py, line 10)",
     "output_type": "error",
     "traceback": [
      "\u001b[0;36m  Cell \u001b[0;32mIn[21], line 10\u001b[0;36m\u001b[0m\n\u001b[0;31m    \u001b[0m\n\u001b[0m    ^\u001b[0m\n\u001b[0;31mSyntaxError\u001b[0m\u001b[0;31m:\u001b[0m incomplete input\n"
     ]
    }
   ],
   "source": []
  },
  {
   "cell_type": "code",
   "execution_count": 13,
   "id": "f42f45d5",
   "metadata": {},
   "outputs": [
    {
     "name": "stdout",
     "output_type": "stream",
     "text": [
      "2022-12-31T22:00:00Z\n",
      "2023-04-19T12:00:00Z\n"
     ]
    }
   ],
   "source": [
    "# data sources\n",
    "FGid_elec_consumption_FI : int = 124\n",
    "\n",
    "dt_2023_01_01 : datetime = datetime(2023, 1, 1, tzinfo=ZoneInfo('Europe/Helsinki'))\n",
    "dt_now : datetime = round_hour(datetime.now(tz = timezone.utc))\n",
    "\n",
    "print(utc_str(dt_2023_01_01))\n",
    "print(utc_str(dt_now))"
   ]
  },
  {
   "cell_type": "code",
   "execution_count": null,
   "id": "82f56680",
   "metadata": {},
   "outputs": [],
   "source": [
    "\n",
    "\n",
    "dt_2023_01_01 : datetime = datetime(2023, 1, 1, tzinfo=ZoneInfo('Europe/Helsinki'))\n",
    "dt_now : datetime = datetime.utcnow()\n",
    "dt_now\n",
    "\n",
    "print(dt_2023_01_01.astimezone(tz=timezone.utc).isoformat(\"T\") + 'Z')"
   ]
  }
 ],
 "metadata": {
  "kernelspec": {
   "display_name": "Python 3 (ipykernel)",
   "language": "python",
   "name": "python3"
  },
  "language_info": {
   "codemirror_mode": {
    "name": "ipython",
    "version": 3
   },
   "file_extension": ".py",
   "mimetype": "text/x-python",
   "name": "python",
   "nbconvert_exporter": "python",
   "pygments_lexer": "ipython3",
   "version": "3.11.3"
  }
 },
 "nbformat": 4,
 "nbformat_minor": 5
}
